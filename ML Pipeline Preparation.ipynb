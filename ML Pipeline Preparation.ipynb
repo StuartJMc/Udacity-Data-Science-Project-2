{
 "cells": [
  {
   "cell_type": "markdown",
   "metadata": {},
   "source": [
    "# ML Pipeline Preparation\n",
    "Follow the instructions below to help you create your ML pipeline.\n",
    "### 1. Import libraries and load data from database.\n",
    "- Import Python libraries\n",
    "- Load dataset from database with [`read_sql_table`](https://pandas.pydata.org/pandas-docs/stable/generated/pandas.read_sql_table.html)\n",
    "- Define feature and target variables X and Y"
   ]
  },
  {
   "cell_type": "code",
   "execution_count": 1,
   "metadata": {},
   "outputs": [],
   "source": [
    "# import libraries\n",
    "import pandas as pd\n",
    "import numpy as np\n",
    "from sqlalchemy import create_engine\n",
    "import re\n",
    "\n",
    "import nltk\n",
    "from nltk.corpus import stopwords\n",
    "from nltk.stem.wordnet import WordNetLemmatizer\n",
    "from nltk.tokenize import word_tokenize\n",
    "from sklearn.model_selection import train_test_split\n",
    "\n",
    "from sklearn.multioutput import MultiOutputClassifier\n",
    "from sklearn.ensemble import RandomForestClassifier\n",
    "from sklearn.feature_extraction.text import CountVectorizer, TfidfTransformer\n",
    "from sklearn.model_selection import GridSearchCV\n",
    "\n",
    "\n",
    "\n",
    "from sklearn.pipeline import Pipeline\n",
    "from sklearn.metrics import classification_report, confusion_matrix,precision_score, recall_score\n",
    "\n",
    "from sklearn.ensemble import GradientBoostingClassifier\n",
    "import lightgbm as lgb\n",
    "\n",
    "from sklearn.metrics import multilabel_confusion_matrix\n",
    "import seaborn as sns\n",
    "import matplotlib.pyplot as plt\n",
    "import pickle"
   ]
  },
  {
   "cell_type": "code",
   "execution_count": 1,
   "metadata": {},
   "outputs": [],
   "source": [
    "from data.process_data import clean_data"
   ]
  },
  {
   "cell_type": "code",
   "execution_count": 2,
   "metadata": {},
   "outputs": [
    {
     "name": "stderr",
     "output_type": "stream",
     "text": [
      "[nltk_data] Downloading package punkt to\n",
      "[nltk_data]     C:\\Users\\polys\\AppData\\Roaming\\nltk_data...\n",
      "[nltk_data]   Package punkt is already up-to-date!\n",
      "[nltk_data] Downloading package stopwords to\n",
      "[nltk_data]     C:\\Users\\polys\\AppData\\Roaming\\nltk_data...\n",
      "[nltk_data]   Package stopwords is already up-to-date!\n",
      "[nltk_data] Downloading package wordnet to\n",
      "[nltk_data]     C:\\Users\\polys\\AppData\\Roaming\\nltk_data...\n",
      "[nltk_data]   Package wordnet is already up-to-date!\n"
     ]
    },
    {
     "data": {
      "text/plain": [
       "True"
      ]
     },
     "execution_count": 2,
     "metadata": {},
     "output_type": "execute_result"
    }
   ],
   "source": [
    "nltk.download('punkt')\n",
    "nltk.download('stopwords')\n",
    "nltk.download('wordnet')"
   ]
  },
  {
   "cell_type": "code",
   "execution_count": 2,
   "metadata": {},
   "outputs": [],
   "source": [
    "db_path=r'data/DisasterResponse.db'"
   ]
  },
  {
   "cell_type": "code",
   "execution_count": 3,
   "metadata": {},
   "outputs": [],
   "source": [
    "# load data from database\n",
    "engine = create_engine(f'sqlite:///{db_path}')"
   ]
  },
  {
   "cell_type": "code",
   "execution_count": 4,
   "metadata": {},
   "outputs": [
    {
     "data": {
      "text/plain": [
       "Engine(sqlite:///data/DisasterResponse.db)"
      ]
     },
     "execution_count": 4,
     "metadata": {},
     "output_type": "execute_result"
    }
   ],
   "source": [
    "engine"
   ]
  },
  {
   "cell_type": "code",
   "execution_count": 5,
   "metadata": {},
   "outputs": [],
   "source": [
    "df = pd.read_sql(\"SELECT * FROM DisasterResponse\",engine)\n",
    "df.index=df['id']\n",
    "X = df[['message','original','genre']]\n",
    "y = df.drop(columns=['id','message','original','genre'])"
   ]
  },
  {
   "cell_type": "code",
   "execution_count": 6,
   "metadata": {},
   "outputs": [
    {
     "data": {
      "text/plain": [
       "1    20093\n",
       "0     6122\n",
       "Name: related, dtype: int64"
      ]
     },
     "execution_count": 6,
     "metadata": {},
     "output_type": "execute_result"
    }
   ],
   "source": [
    "df[df.columns[4:]]['related'].value_counts()"
   ]
  },
  {
   "cell_type": "code",
   "execution_count": 7,
   "metadata": {},
   "outputs": [
    {
     "data": {
      "text/plain": [
       "['related',\n",
       " 'request',\n",
       " 'offer',\n",
       " 'aid_related',\n",
       " 'medical_help',\n",
       " 'medical_products',\n",
       " 'search_and_rescue',\n",
       " 'security',\n",
       " 'military',\n",
       " 'child_alone',\n",
       " 'water',\n",
       " 'food',\n",
       " 'shelter',\n",
       " 'clothing',\n",
       " 'money',\n",
       " 'missing_people',\n",
       " 'refugees',\n",
       " 'death',\n",
       " 'other_aid',\n",
       " 'infrastructure_related',\n",
       " 'transport',\n",
       " 'buildings',\n",
       " 'electricity',\n",
       " 'tools',\n",
       " 'hospitals',\n",
       " 'shops',\n",
       " 'aid_centers',\n",
       " 'other_infrastructure',\n",
       " 'weather_related',\n",
       " 'floods',\n",
       " 'storm',\n",
       " 'fire',\n",
       " 'earthquake',\n",
       " 'cold',\n",
       " 'other_weather',\n",
       " 'direct_report']"
      ]
     },
     "execution_count": 7,
     "metadata": {},
     "output_type": "execute_result"
    }
   ],
   "source": [
    "categories=list(y.columns)\n",
    "categories"
   ]
  },
  {
   "cell_type": "code",
   "execution_count": 8,
   "metadata": {},
   "outputs": [
    {
     "data": {
      "text/html": [
       "<div>\n",
       "<style scoped>\n",
       "    .dataframe tbody tr th:only-of-type {\n",
       "        vertical-align: middle;\n",
       "    }\n",
       "\n",
       "    .dataframe tbody tr th {\n",
       "        vertical-align: top;\n",
       "    }\n",
       "\n",
       "    .dataframe thead th {\n",
       "        text-align: right;\n",
       "    }\n",
       "</style>\n",
       "<table border=\"1\" class=\"dataframe\">\n",
       "  <thead>\n",
       "    <tr style=\"text-align: right;\">\n",
       "      <th></th>\n",
       "      <th>message</th>\n",
       "      <th>original</th>\n",
       "      <th>genre</th>\n",
       "    </tr>\n",
       "    <tr>\n",
       "      <th>id</th>\n",
       "      <th></th>\n",
       "      <th></th>\n",
       "      <th></th>\n",
       "    </tr>\n",
       "  </thead>\n",
       "  <tbody>\n",
       "    <tr>\n",
       "      <th>2</th>\n",
       "      <td>Weather update - a cold front from Cuba that c...</td>\n",
       "      <td>Un front froid se retrouve sur Cuba ce matin. ...</td>\n",
       "      <td>direct</td>\n",
       "    </tr>\n",
       "    <tr>\n",
       "      <th>7</th>\n",
       "      <td>Is the Hurricane over or is it not over</td>\n",
       "      <td>Cyclone nan fini osinon li pa fini</td>\n",
       "      <td>direct</td>\n",
       "    </tr>\n",
       "    <tr>\n",
       "      <th>8</th>\n",
       "      <td>Looking for someone but no name</td>\n",
       "      <td>Patnm, di Maryani relem pou li banm nouvel li ...</td>\n",
       "      <td>direct</td>\n",
       "    </tr>\n",
       "    <tr>\n",
       "      <th>9</th>\n",
       "      <td>UN reports Leogane 80-90 destroyed. Only Hospi...</td>\n",
       "      <td>UN reports Leogane 80-90 destroyed. Only Hospi...</td>\n",
       "      <td>direct</td>\n",
       "    </tr>\n",
       "    <tr>\n",
       "      <th>12</th>\n",
       "      <td>says: west side of Haiti, rest of the country ...</td>\n",
       "      <td>facade ouest d Haiti et le reste du pays aujou...</td>\n",
       "      <td>direct</td>\n",
       "    </tr>\n",
       "    <tr>\n",
       "      <th>...</th>\n",
       "      <td>...</td>\n",
       "      <td>...</td>\n",
       "      <td>...</td>\n",
       "    </tr>\n",
       "    <tr>\n",
       "      <th>30261</th>\n",
       "      <td>The training demonstrated how to enhance micro...</td>\n",
       "      <td>None</td>\n",
       "      <td>news</td>\n",
       "    </tr>\n",
       "    <tr>\n",
       "      <th>30262</th>\n",
       "      <td>A suitable candidate has been selected and OCH...</td>\n",
       "      <td>None</td>\n",
       "      <td>news</td>\n",
       "    </tr>\n",
       "    <tr>\n",
       "      <th>30263</th>\n",
       "      <td>Proshika, operating in Cox's Bazar municipalit...</td>\n",
       "      <td>None</td>\n",
       "      <td>news</td>\n",
       "    </tr>\n",
       "    <tr>\n",
       "      <th>30264</th>\n",
       "      <td>Some 2,000 women protesting against the conduc...</td>\n",
       "      <td>None</td>\n",
       "      <td>news</td>\n",
       "    </tr>\n",
       "    <tr>\n",
       "      <th>30265</th>\n",
       "      <td>A radical shift in thinking came about as a re...</td>\n",
       "      <td>None</td>\n",
       "      <td>news</td>\n",
       "    </tr>\n",
       "  </tbody>\n",
       "</table>\n",
       "<p>26215 rows × 3 columns</p>\n",
       "</div>"
      ],
      "text/plain": [
       "                                                 message  \\\n",
       "id                                                         \n",
       "2      Weather update - a cold front from Cuba that c...   \n",
       "7                Is the Hurricane over or is it not over   \n",
       "8                        Looking for someone but no name   \n",
       "9      UN reports Leogane 80-90 destroyed. Only Hospi...   \n",
       "12     says: west side of Haiti, rest of the country ...   \n",
       "...                                                  ...   \n",
       "30261  The training demonstrated how to enhance micro...   \n",
       "30262  A suitable candidate has been selected and OCH...   \n",
       "30263  Proshika, operating in Cox's Bazar municipalit...   \n",
       "30264  Some 2,000 women protesting against the conduc...   \n",
       "30265  A radical shift in thinking came about as a re...   \n",
       "\n",
       "                                                original   genre  \n",
       "id                                                                \n",
       "2      Un front froid se retrouve sur Cuba ce matin. ...  direct  \n",
       "7                     Cyclone nan fini osinon li pa fini  direct  \n",
       "8      Patnm, di Maryani relem pou li banm nouvel li ...  direct  \n",
       "9      UN reports Leogane 80-90 destroyed. Only Hospi...  direct  \n",
       "12     facade ouest d Haiti et le reste du pays aujou...  direct  \n",
       "...                                                  ...     ...  \n",
       "30261                                               None    news  \n",
       "30262                                               None    news  \n",
       "30263                                               None    news  \n",
       "30264                                               None    news  \n",
       "30265                                               None    news  \n",
       "\n",
       "[26215 rows x 3 columns]"
      ]
     },
     "execution_count": 8,
     "metadata": {},
     "output_type": "execute_result"
    }
   ],
   "source": [
    "X"
   ]
  },
  {
   "cell_type": "code",
   "execution_count": 9,
   "metadata": {},
   "outputs": [
    {
     "data": {
      "text/html": [
       "<div>\n",
       "<style scoped>\n",
       "    .dataframe tbody tr th:only-of-type {\n",
       "        vertical-align: middle;\n",
       "    }\n",
       "\n",
       "    .dataframe tbody tr th {\n",
       "        vertical-align: top;\n",
       "    }\n",
       "\n",
       "    .dataframe thead th {\n",
       "        text-align: right;\n",
       "    }\n",
       "</style>\n",
       "<table border=\"1\" class=\"dataframe\">\n",
       "  <thead>\n",
       "    <tr style=\"text-align: right;\">\n",
       "      <th></th>\n",
       "      <th>related</th>\n",
       "      <th>request</th>\n",
       "      <th>offer</th>\n",
       "      <th>aid_related</th>\n",
       "      <th>medical_help</th>\n",
       "      <th>medical_products</th>\n",
       "      <th>search_and_rescue</th>\n",
       "      <th>security</th>\n",
       "      <th>military</th>\n",
       "      <th>child_alone</th>\n",
       "      <th>...</th>\n",
       "      <th>aid_centers</th>\n",
       "      <th>other_infrastructure</th>\n",
       "      <th>weather_related</th>\n",
       "      <th>floods</th>\n",
       "      <th>storm</th>\n",
       "      <th>fire</th>\n",
       "      <th>earthquake</th>\n",
       "      <th>cold</th>\n",
       "      <th>other_weather</th>\n",
       "      <th>direct_report</th>\n",
       "    </tr>\n",
       "    <tr>\n",
       "      <th>id</th>\n",
       "      <th></th>\n",
       "      <th></th>\n",
       "      <th></th>\n",
       "      <th></th>\n",
       "      <th></th>\n",
       "      <th></th>\n",
       "      <th></th>\n",
       "      <th></th>\n",
       "      <th></th>\n",
       "      <th></th>\n",
       "      <th></th>\n",
       "      <th></th>\n",
       "      <th></th>\n",
       "      <th></th>\n",
       "      <th></th>\n",
       "      <th></th>\n",
       "      <th></th>\n",
       "      <th></th>\n",
       "      <th></th>\n",
       "      <th></th>\n",
       "      <th></th>\n",
       "    </tr>\n",
       "  </thead>\n",
       "  <tbody>\n",
       "    <tr>\n",
       "      <th>2</th>\n",
       "      <td>1</td>\n",
       "      <td>0</td>\n",
       "      <td>0</td>\n",
       "      <td>0</td>\n",
       "      <td>0</td>\n",
       "      <td>0</td>\n",
       "      <td>0</td>\n",
       "      <td>0</td>\n",
       "      <td>0</td>\n",
       "      <td>0</td>\n",
       "      <td>...</td>\n",
       "      <td>0</td>\n",
       "      <td>0</td>\n",
       "      <td>0</td>\n",
       "      <td>0</td>\n",
       "      <td>0</td>\n",
       "      <td>0</td>\n",
       "      <td>0</td>\n",
       "      <td>0</td>\n",
       "      <td>0</td>\n",
       "      <td>0</td>\n",
       "    </tr>\n",
       "    <tr>\n",
       "      <th>7</th>\n",
       "      <td>1</td>\n",
       "      <td>0</td>\n",
       "      <td>0</td>\n",
       "      <td>1</td>\n",
       "      <td>0</td>\n",
       "      <td>0</td>\n",
       "      <td>0</td>\n",
       "      <td>0</td>\n",
       "      <td>0</td>\n",
       "      <td>0</td>\n",
       "      <td>...</td>\n",
       "      <td>0</td>\n",
       "      <td>0</td>\n",
       "      <td>1</td>\n",
       "      <td>0</td>\n",
       "      <td>1</td>\n",
       "      <td>0</td>\n",
       "      <td>0</td>\n",
       "      <td>0</td>\n",
       "      <td>0</td>\n",
       "      <td>0</td>\n",
       "    </tr>\n",
       "    <tr>\n",
       "      <th>8</th>\n",
       "      <td>1</td>\n",
       "      <td>0</td>\n",
       "      <td>0</td>\n",
       "      <td>0</td>\n",
       "      <td>0</td>\n",
       "      <td>0</td>\n",
       "      <td>0</td>\n",
       "      <td>0</td>\n",
       "      <td>0</td>\n",
       "      <td>0</td>\n",
       "      <td>...</td>\n",
       "      <td>0</td>\n",
       "      <td>0</td>\n",
       "      <td>0</td>\n",
       "      <td>0</td>\n",
       "      <td>0</td>\n",
       "      <td>0</td>\n",
       "      <td>0</td>\n",
       "      <td>0</td>\n",
       "      <td>0</td>\n",
       "      <td>0</td>\n",
       "    </tr>\n",
       "    <tr>\n",
       "      <th>9</th>\n",
       "      <td>1</td>\n",
       "      <td>1</td>\n",
       "      <td>0</td>\n",
       "      <td>1</td>\n",
       "      <td>0</td>\n",
       "      <td>1</td>\n",
       "      <td>0</td>\n",
       "      <td>0</td>\n",
       "      <td>0</td>\n",
       "      <td>0</td>\n",
       "      <td>...</td>\n",
       "      <td>0</td>\n",
       "      <td>0</td>\n",
       "      <td>0</td>\n",
       "      <td>0</td>\n",
       "      <td>0</td>\n",
       "      <td>0</td>\n",
       "      <td>0</td>\n",
       "      <td>0</td>\n",
       "      <td>0</td>\n",
       "      <td>0</td>\n",
       "    </tr>\n",
       "    <tr>\n",
       "      <th>12</th>\n",
       "      <td>1</td>\n",
       "      <td>0</td>\n",
       "      <td>0</td>\n",
       "      <td>0</td>\n",
       "      <td>0</td>\n",
       "      <td>0</td>\n",
       "      <td>0</td>\n",
       "      <td>0</td>\n",
       "      <td>0</td>\n",
       "      <td>0</td>\n",
       "      <td>...</td>\n",
       "      <td>0</td>\n",
       "      <td>0</td>\n",
       "      <td>0</td>\n",
       "      <td>0</td>\n",
       "      <td>0</td>\n",
       "      <td>0</td>\n",
       "      <td>0</td>\n",
       "      <td>0</td>\n",
       "      <td>0</td>\n",
       "      <td>0</td>\n",
       "    </tr>\n",
       "    <tr>\n",
       "      <th>...</th>\n",
       "      <td>...</td>\n",
       "      <td>...</td>\n",
       "      <td>...</td>\n",
       "      <td>...</td>\n",
       "      <td>...</td>\n",
       "      <td>...</td>\n",
       "      <td>...</td>\n",
       "      <td>...</td>\n",
       "      <td>...</td>\n",
       "      <td>...</td>\n",
       "      <td>...</td>\n",
       "      <td>...</td>\n",
       "      <td>...</td>\n",
       "      <td>...</td>\n",
       "      <td>...</td>\n",
       "      <td>...</td>\n",
       "      <td>...</td>\n",
       "      <td>...</td>\n",
       "      <td>...</td>\n",
       "      <td>...</td>\n",
       "      <td>...</td>\n",
       "    </tr>\n",
       "    <tr>\n",
       "      <th>30261</th>\n",
       "      <td>0</td>\n",
       "      <td>0</td>\n",
       "      <td>0</td>\n",
       "      <td>0</td>\n",
       "      <td>0</td>\n",
       "      <td>0</td>\n",
       "      <td>0</td>\n",
       "      <td>0</td>\n",
       "      <td>0</td>\n",
       "      <td>0</td>\n",
       "      <td>...</td>\n",
       "      <td>0</td>\n",
       "      <td>0</td>\n",
       "      <td>0</td>\n",
       "      <td>0</td>\n",
       "      <td>0</td>\n",
       "      <td>0</td>\n",
       "      <td>0</td>\n",
       "      <td>0</td>\n",
       "      <td>0</td>\n",
       "      <td>0</td>\n",
       "    </tr>\n",
       "    <tr>\n",
       "      <th>30262</th>\n",
       "      <td>0</td>\n",
       "      <td>0</td>\n",
       "      <td>0</td>\n",
       "      <td>0</td>\n",
       "      <td>0</td>\n",
       "      <td>0</td>\n",
       "      <td>0</td>\n",
       "      <td>0</td>\n",
       "      <td>0</td>\n",
       "      <td>0</td>\n",
       "      <td>...</td>\n",
       "      <td>0</td>\n",
       "      <td>0</td>\n",
       "      <td>0</td>\n",
       "      <td>0</td>\n",
       "      <td>0</td>\n",
       "      <td>0</td>\n",
       "      <td>0</td>\n",
       "      <td>0</td>\n",
       "      <td>0</td>\n",
       "      <td>0</td>\n",
       "    </tr>\n",
       "    <tr>\n",
       "      <th>30263</th>\n",
       "      <td>1</td>\n",
       "      <td>0</td>\n",
       "      <td>0</td>\n",
       "      <td>0</td>\n",
       "      <td>0</td>\n",
       "      <td>0</td>\n",
       "      <td>0</td>\n",
       "      <td>0</td>\n",
       "      <td>0</td>\n",
       "      <td>0</td>\n",
       "      <td>...</td>\n",
       "      <td>0</td>\n",
       "      <td>0</td>\n",
       "      <td>0</td>\n",
       "      <td>0</td>\n",
       "      <td>0</td>\n",
       "      <td>0</td>\n",
       "      <td>0</td>\n",
       "      <td>0</td>\n",
       "      <td>0</td>\n",
       "      <td>0</td>\n",
       "    </tr>\n",
       "    <tr>\n",
       "      <th>30264</th>\n",
       "      <td>1</td>\n",
       "      <td>0</td>\n",
       "      <td>0</td>\n",
       "      <td>1</td>\n",
       "      <td>0</td>\n",
       "      <td>0</td>\n",
       "      <td>0</td>\n",
       "      <td>0</td>\n",
       "      <td>1</td>\n",
       "      <td>0</td>\n",
       "      <td>...</td>\n",
       "      <td>0</td>\n",
       "      <td>0</td>\n",
       "      <td>0</td>\n",
       "      <td>0</td>\n",
       "      <td>0</td>\n",
       "      <td>0</td>\n",
       "      <td>0</td>\n",
       "      <td>0</td>\n",
       "      <td>0</td>\n",
       "      <td>0</td>\n",
       "    </tr>\n",
       "    <tr>\n",
       "      <th>30265</th>\n",
       "      <td>1</td>\n",
       "      <td>0</td>\n",
       "      <td>0</td>\n",
       "      <td>0</td>\n",
       "      <td>0</td>\n",
       "      <td>0</td>\n",
       "      <td>0</td>\n",
       "      <td>0</td>\n",
       "      <td>0</td>\n",
       "      <td>0</td>\n",
       "      <td>...</td>\n",
       "      <td>0</td>\n",
       "      <td>0</td>\n",
       "      <td>0</td>\n",
       "      <td>0</td>\n",
       "      <td>0</td>\n",
       "      <td>0</td>\n",
       "      <td>0</td>\n",
       "      <td>0</td>\n",
       "      <td>0</td>\n",
       "      <td>0</td>\n",
       "    </tr>\n",
       "  </tbody>\n",
       "</table>\n",
       "<p>26215 rows × 36 columns</p>\n",
       "</div>"
      ],
      "text/plain": [
       "       related  request  offer  aid_related  medical_help  medical_products  \\\n",
       "id                                                                            \n",
       "2            1        0      0            0             0                 0   \n",
       "7            1        0      0            1             0                 0   \n",
       "8            1        0      0            0             0                 0   \n",
       "9            1        1      0            1             0                 1   \n",
       "12           1        0      0            0             0                 0   \n",
       "...        ...      ...    ...          ...           ...               ...   \n",
       "30261        0        0      0            0             0                 0   \n",
       "30262        0        0      0            0             0                 0   \n",
       "30263        1        0      0            0             0                 0   \n",
       "30264        1        0      0            1             0                 0   \n",
       "30265        1        0      0            0             0                 0   \n",
       "\n",
       "       search_and_rescue  security  military  child_alone  ...  aid_centers  \\\n",
       "id                                                         ...                \n",
       "2                      0         0         0            0  ...            0   \n",
       "7                      0         0         0            0  ...            0   \n",
       "8                      0         0         0            0  ...            0   \n",
       "9                      0         0         0            0  ...            0   \n",
       "12                     0         0         0            0  ...            0   \n",
       "...                  ...       ...       ...          ...  ...          ...   \n",
       "30261                  0         0         0            0  ...            0   \n",
       "30262                  0         0         0            0  ...            0   \n",
       "30263                  0         0         0            0  ...            0   \n",
       "30264                  0         0         1            0  ...            0   \n",
       "30265                  0         0         0            0  ...            0   \n",
       "\n",
       "       other_infrastructure  weather_related  floods  storm  fire  earthquake  \\\n",
       "id                                                                              \n",
       "2                         0                0       0      0     0           0   \n",
       "7                         0                1       0      1     0           0   \n",
       "8                         0                0       0      0     0           0   \n",
       "9                         0                0       0      0     0           0   \n",
       "12                        0                0       0      0     0           0   \n",
       "...                     ...              ...     ...    ...   ...         ...   \n",
       "30261                     0                0       0      0     0           0   \n",
       "30262                     0                0       0      0     0           0   \n",
       "30263                     0                0       0      0     0           0   \n",
       "30264                     0                0       0      0     0           0   \n",
       "30265                     0                0       0      0     0           0   \n",
       "\n",
       "       cold  other_weather  direct_report  \n",
       "id                                         \n",
       "2         0              0              0  \n",
       "7         0              0              0  \n",
       "8         0              0              0  \n",
       "9         0              0              0  \n",
       "12        0              0              0  \n",
       "...     ...            ...            ...  \n",
       "30261     0              0              0  \n",
       "30262     0              0              0  \n",
       "30263     0              0              0  \n",
       "30264     0              0              0  \n",
       "30265     0              0              0  \n",
       "\n",
       "[26215 rows x 36 columns]"
      ]
     },
     "execution_count": 9,
     "metadata": {},
     "output_type": "execute_result"
    }
   ],
   "source": [
    "y"
   ]
  },
  {
   "cell_type": "markdown",
   "metadata": {},
   "source": [
    "### 2. Write a tokenization function to process your text data"
   ]
  },
  {
   "cell_type": "code",
   "execution_count": 10,
   "metadata": {},
   "outputs": [],
   "source": [
    "def tokenize(text):\n",
    "    #lower case and add remove punctuation\n",
    "    text=re.sub(r\"[^a-zA-Z0-9]\",\" \",text.lower())\n",
    "    \n",
    "    #tokenize text\n",
    "    tokens=word_tokenize(text)\n",
    "    \n",
    "    #remove stop words and lemmatize\n",
    "    tokens = [WordNetLemmatizer().lemmatize(w)  for w in tokens if w not in stopwords.words(\"english\")]\n",
    "    \n",
    "    return tokens\n",
    "        "
   ]
  },
  {
   "cell_type": "markdown",
   "metadata": {},
   "source": [
    "### 3. Build a machine learning pipeline\n",
    "This machine pipeline should take in the `message` column as input and output classification results on the other 36 categories in the dataset. You may find the [MultiOutputClassifier](http://scikit-learn.org/stable/modules/generated/sklearn.multioutput.MultiOutputClassifier.html) helpful for predicting multiple target variables."
   ]
  },
  {
   "cell_type": "code",
   "execution_count": 11,
   "metadata": {},
   "outputs": [],
   "source": [
    "pipeline = Pipeline([\n",
    "        ('vect', CountVectorizer(tokenizer=tokenize)),\n",
    "        ('tfidf', TfidfTransformer()),\n",
    "        ('clf', MultiOutputClassifier(lgb.LGBMClassifier()))\n",
    "    ])"
   ]
  },
  {
   "cell_type": "markdown",
   "metadata": {},
   "source": [
    "### 4. Train pipeline\n",
    "- Split data into train and test sets\n",
    "- Train pipeline"
   ]
  },
  {
   "cell_type": "code",
   "execution_count": 12,
   "metadata": {},
   "outputs": [],
   "source": [
    "#split into train and test\n",
    "X_train, X_test, y_train, y_test = train_test_split(X, y)"
   ]
  },
  {
   "cell_type": "code",
   "execution_count": 13,
   "metadata": {},
   "outputs": [
    {
     "data": {
      "text/plain": [
       "((19661, 36), (19661, 3))"
      ]
     },
     "execution_count": 13,
     "metadata": {},
     "output_type": "execute_result"
    }
   ],
   "source": [
    "y_train.shape,X_train.shape"
   ]
  },
  {
   "cell_type": "code",
   "execution_count": 14,
   "metadata": {},
   "outputs": [
    {
     "data": {
      "text/plain": [
       "Pipeline(steps=[('vect',\n",
       "                 CountVectorizer(tokenizer=<function tokenize at 0x0000023F76162700>)),\n",
       "                ('tfidf', TfidfTransformer()),\n",
       "                ('clf', MultiOutputClassifier(estimator=LGBMClassifier()))])"
      ]
     },
     "execution_count": 14,
     "metadata": {},
     "output_type": "execute_result"
    }
   ],
   "source": [
    "pipeline.fit(X_train['message'],y_train)"
   ]
  },
  {
   "cell_type": "markdown",
   "metadata": {},
   "source": [
    "### 5. Test your model\n",
    "Report the f1 score, precision and recall for each output category of the dataset. You can do this by iterating through the columns and calling sklearn's `classification_report` on each."
   ]
  },
  {
   "cell_type": "code",
   "execution_count": 15,
   "metadata": {},
   "outputs": [],
   "source": [
    "y_pred=pipeline.predict(X_test['message'])"
   ]
  },
  {
   "cell_type": "code",
   "execution_count": 17,
   "metadata": {},
   "outputs": [
    {
     "data": {
      "text/plain": [
       "6554"
      ]
     },
     "execution_count": 17,
     "metadata": {},
     "output_type": "execute_result"
    }
   ],
   "source": [
    "len(y_pred[:,1])"
   ]
  },
  {
   "cell_type": "code",
   "execution_count": 16,
   "metadata": {},
   "outputs": [
    {
     "data": {
      "text/plain": [
       "'request'"
      ]
     },
     "execution_count": 16,
     "metadata": {},
     "output_type": "execute_result"
    }
   ],
   "source": [
    "y_test.iloc[:,1].name"
   ]
  },
  {
   "cell_type": "code",
   "execution_count": 17,
   "metadata": {
    "scrolled": true,
    "tags": []
   },
   "outputs": [
    {
     "name": "stdout",
     "output_type": "stream",
     "text": [
      "############################################################\n",
      "Classification report for category: related\n",
      "\n",
      "              precision    recall  f1-score   support\n",
      "\n",
      "           0       0.71      0.46      0.56      1490\n",
      "           1       0.86      0.94      0.90      5064\n",
      "\n",
      "    accuracy                           0.84      6554\n",
      "   macro avg       0.78      0.70      0.73      6554\n",
      "weighted avg       0.82      0.84      0.82      6554\n",
      "\n",
      "############################################################\n",
      "Classification report for category: request\n",
      "\n",
      "              precision    recall  f1-score   support\n",
      "\n",
      "           0       0.92      0.97      0.94      5443\n",
      "           1       0.80      0.59      0.68      1111\n",
      "\n",
      "    accuracy                           0.91      6554\n",
      "   macro avg       0.86      0.78      0.81      6554\n",
      "weighted avg       0.90      0.91      0.90      6554\n",
      "\n",
      "############################################################\n",
      "Classification report for category: offer\n",
      "\n",
      "              precision    recall  f1-score   support\n",
      "\n",
      "           0       1.00      1.00      1.00      6522\n",
      "           1       0.00      0.00      0.00        32\n",
      "\n",
      "    accuracy                           0.99      6554\n",
      "   macro avg       0.50      0.50      0.50      6554\n",
      "weighted avg       0.99      0.99      0.99      6554\n",
      "\n",
      "############################################################\n",
      "Classification report for category: aid_related\n",
      "\n",
      "              precision    recall  f1-score   support\n",
      "\n",
      "           0       0.80      0.84      0.82      3791\n",
      "           1       0.76      0.71      0.74      2763\n",
      "\n",
      "    accuracy                           0.79      6554\n",
      "   macro avg       0.78      0.78      0.78      6554\n",
      "weighted avg       0.78      0.79      0.78      6554\n",
      "\n",
      "############################################################\n",
      "Classification report for category: medical_help\n",
      "\n",
      "              precision    recall  f1-score   support\n",
      "\n",
      "           0       0.94      0.98      0.96      6026\n",
      "           1       0.56      0.30      0.39       528\n",
      "\n",
      "    accuracy                           0.92      6554\n",
      "   macro avg       0.75      0.64      0.67      6554\n",
      "weighted avg       0.91      0.92      0.91      6554\n",
      "\n",
      "############################################################\n",
      "Classification report for category: medical_products\n",
      "\n",
      "              precision    recall  f1-score   support\n",
      "\n",
      "           0       0.96      0.99      0.98      6200\n",
      "           1       0.71      0.32      0.45       354\n",
      "\n",
      "    accuracy                           0.96      6554\n",
      "   macro avg       0.84      0.66      0.71      6554\n",
      "weighted avg       0.95      0.96      0.95      6554\n",
      "\n",
      "############################################################\n",
      "Classification report for category: search_and_rescue\n",
      "\n",
      "              precision    recall  f1-score   support\n",
      "\n",
      "           0       0.98      1.00      0.99      6376\n",
      "           1       0.68      0.19      0.30       178\n",
      "\n",
      "    accuracy                           0.98      6554\n",
      "   macro avg       0.83      0.59      0.64      6554\n",
      "weighted avg       0.97      0.98      0.97      6554\n",
      "\n",
      "############################################################\n",
      "Classification report for category: security\n",
      "\n",
      "              precision    recall  f1-score   support\n",
      "\n",
      "           0       0.98      1.00      0.99      6432\n",
      "           1       0.36      0.03      0.06       122\n",
      "\n",
      "    accuracy                           0.98      6554\n",
      "   macro avg       0.67      0.52      0.53      6554\n",
      "weighted avg       0.97      0.98      0.97      6554\n",
      "\n",
      "############################################################\n",
      "Classification report for category: military\n",
      "\n",
      "              precision    recall  f1-score   support\n",
      "\n",
      "           0       0.98      0.99      0.98      6332\n",
      "           1       0.56      0.36      0.44       222\n",
      "\n",
      "    accuracy                           0.97      6554\n",
      "   macro avg       0.77      0.67      0.71      6554\n",
      "weighted avg       0.96      0.97      0.97      6554\n",
      "\n",
      "############################################################\n",
      "Classification report for category: child_alone\n",
      "\n",
      "              precision    recall  f1-score   support\n",
      "\n",
      "           0       1.00      1.00      1.00      6554\n",
      "\n",
      "    accuracy                           1.00      6554\n",
      "   macro avg       1.00      1.00      1.00      6554\n",
      "weighted avg       1.00      1.00      1.00      6554\n",
      "\n",
      "############################################################\n",
      "Classification report for category: water\n",
      "\n",
      "              precision    recall  f1-score   support\n",
      "\n",
      "           0       0.97      0.99      0.98      6085\n",
      "           1       0.80      0.65      0.71       469\n",
      "\n",
      "    accuracy                           0.96      6554\n",
      "   macro avg       0.88      0.82      0.85      6554\n",
      "weighted avg       0.96      0.96      0.96      6554\n",
      "\n",
      "############################################################\n",
      "Classification report for category: food\n",
      "\n",
      "              precision    recall  f1-score   support\n",
      "\n",
      "           0       0.97      0.97      0.97      5823\n",
      "           1       0.79      0.78      0.79       731\n",
      "\n",
      "    accuracy                           0.95      6554\n",
      "   macro avg       0.88      0.88      0.88      6554\n",
      "weighted avg       0.95      0.95      0.95      6554\n",
      "\n",
      "############################################################\n",
      "Classification report for category: shelter\n",
      "\n",
      "              precision    recall  f1-score   support\n",
      "\n",
      "           0       0.96      0.98      0.97      5962\n",
      "           1       0.76      0.61      0.68       592\n",
      "\n",
      "    accuracy                           0.95      6554\n",
      "   macro avg       0.86      0.80      0.82      6554\n",
      "weighted avg       0.94      0.95      0.94      6554\n",
      "\n",
      "############################################################\n",
      "Classification report for category: clothing\n",
      "\n",
      "              precision    recall  f1-score   support\n",
      "\n",
      "           0       0.99      1.00      0.99      6448\n",
      "           1       0.76      0.45      0.57       106\n",
      "\n",
      "    accuracy                           0.99      6554\n",
      "   macro avg       0.88      0.73      0.78      6554\n",
      "weighted avg       0.99      0.99      0.99      6554\n",
      "\n",
      "############################################################\n",
      "Classification report for category: money\n",
      "\n",
      "              precision    recall  f1-score   support\n",
      "\n",
      "           0       0.98      1.00      0.99      6408\n",
      "           1       0.67      0.28      0.40       146\n",
      "\n",
      "    accuracy                           0.98      6554\n",
      "   macro avg       0.83      0.64      0.69      6554\n",
      "weighted avg       0.98      0.98      0.98      6554\n",
      "\n",
      "############################################################\n",
      "Classification report for category: missing_people\n",
      "\n",
      "              precision    recall  f1-score   support\n",
      "\n",
      "           0       0.99      1.00      1.00      6482\n",
      "           1       0.61      0.28      0.38        72\n",
      "\n",
      "    accuracy                           0.99      6554\n",
      "   macro avg       0.80      0.64      0.69      6554\n",
      "weighted avg       0.99      0.99      0.99      6554\n",
      "\n",
      "############################################################\n",
      "Classification report for category: refugees\n",
      "\n",
      "              precision    recall  f1-score   support\n",
      "\n",
      "           0       0.97      1.00      0.98      6319\n",
      "           1       0.64      0.21      0.32       235\n",
      "\n",
      "    accuracy                           0.97      6554\n",
      "   macro avg       0.81      0.60      0.65      6554\n",
      "weighted avg       0.96      0.97      0.96      6554\n",
      "\n",
      "############################################################\n",
      "Classification report for category: death\n",
      "\n",
      "              precision    recall  f1-score   support\n",
      "\n",
      "           0       0.98      0.99      0.98      6259\n",
      "           1       0.71      0.55      0.62       295\n",
      "\n",
      "    accuracy                           0.97      6554\n",
      "   macro avg       0.85      0.77      0.80      6554\n",
      "weighted avg       0.97      0.97      0.97      6554\n",
      "\n",
      "############################################################\n",
      "Classification report for category: other_aid\n",
      "\n",
      "              precision    recall  f1-score   support\n",
      "\n",
      "           0       0.88      0.98      0.93      5671\n",
      "           1       0.60      0.17      0.26       883\n",
      "\n",
      "    accuracy                           0.87      6554\n",
      "   macro avg       0.74      0.57      0.60      6554\n",
      "weighted avg       0.85      0.87      0.84      6554\n",
      "\n",
      "############################################################\n",
      "Classification report for category: infrastructure_related\n",
      "\n",
      "              precision    recall  f1-score   support\n",
      "\n",
      "           0       0.94      1.00      0.97      6123\n",
      "           1       0.48      0.06      0.11       431\n",
      "\n",
      "    accuracy                           0.93      6554\n",
      "   macro avg       0.71      0.53      0.54      6554\n",
      "weighted avg       0.91      0.93      0.91      6554\n",
      "\n",
      "############################################################\n",
      "Classification report for category: transport\n",
      "\n",
      "              precision    recall  f1-score   support\n",
      "\n",
      "           0       0.96      1.00      0.98      6252\n",
      "           1       0.72      0.22      0.34       302\n",
      "\n",
      "    accuracy                           0.96      6554\n",
      "   macro avg       0.84      0.61      0.66      6554\n",
      "weighted avg       0.95      0.96      0.95      6554\n",
      "\n",
      "############################################################\n",
      "Classification report for category: buildings\n",
      "\n",
      "              precision    recall  f1-score   support\n",
      "\n",
      "           0       0.97      0.99      0.98      6238\n",
      "           1       0.72      0.39      0.50       316\n",
      "\n",
      "    accuracy                           0.96      6554\n",
      "   macro avg       0.84      0.69      0.74      6554\n",
      "weighted avg       0.96      0.96      0.96      6554\n",
      "\n",
      "############################################################\n",
      "Classification report for category: electricity\n",
      "\n",
      "              precision    recall  f1-score   support\n",
      "\n",
      "           0       0.99      0.99      0.99      6417\n",
      "           1       0.56      0.31      0.40       137\n",
      "\n",
      "    accuracy                           0.98      6554\n",
      "   macro avg       0.77      0.65      0.70      6554\n",
      "weighted avg       0.98      0.98      0.98      6554\n",
      "\n",
      "############################################################\n",
      "Classification report for category: tools\n",
      "\n",
      "              precision    recall  f1-score   support\n",
      "\n",
      "           0       0.99      1.00      1.00      6509\n",
      "           1       0.00      0.00      0.00        45\n",
      "\n",
      "    accuracy                           0.99      6554\n",
      "   macro avg       0.50      0.50      0.50      6554\n",
      "weighted avg       0.99      0.99      0.99      6554\n",
      "\n",
      "############################################################\n",
      "Classification report for category: hospitals\n",
      "\n",
      "              precision    recall  f1-score   support\n",
      "\n",
      "           0       0.99      1.00      0.99      6483\n",
      "           1       0.25      0.06      0.09        71\n",
      "\n",
      "    accuracy                           0.99      6554\n",
      "   macro avg       0.62      0.53      0.54      6554\n",
      "weighted avg       0.98      0.99      0.98      6554\n",
      "\n",
      "############################################################\n",
      "Classification report for category: shops\n",
      "\n",
      "              precision    recall  f1-score   support\n",
      "\n",
      "           0       1.00      1.00      1.00      6523\n",
      "           1       0.00      0.00      0.00        31\n",
      "\n",
      "    accuracy                           1.00      6554\n",
      "   macro avg       0.50      0.50      0.50      6554\n",
      "weighted avg       0.99      1.00      0.99      6554\n",
      "\n",
      "############################################################\n",
      "Classification report for category: aid_centers\n",
      "\n",
      "              precision    recall  f1-score   support\n",
      "\n",
      "           0       0.99      1.00      0.99      6464\n",
      "           1       0.67      0.07      0.12        90\n",
      "\n",
      "    accuracy                           0.99      6554\n",
      "   macro avg       0.83      0.53      0.56      6554\n",
      "weighted avg       0.98      0.99      0.98      6554\n",
      "\n",
      "############################################################\n",
      "Classification report for category: other_infrastructure\n",
      "\n",
      "              precision    recall  f1-score   support\n",
      "\n",
      "           0       0.96      1.00      0.98      6264\n",
      "           1       0.39      0.03      0.06       290\n",
      "\n",
      "    accuracy                           0.95      6554\n",
      "   macro avg       0.67      0.51      0.52      6554\n",
      "weighted avg       0.93      0.95      0.94      6554\n",
      "\n",
      "############################################################\n",
      "Classification report for category: weather_related\n",
      "\n",
      "              precision    recall  f1-score   support\n",
      "\n",
      "           0       0.91      0.95      0.93      4733\n",
      "           1       0.84      0.76      0.80      1821\n",
      "\n",
      "    accuracy                           0.89      6554\n",
      "   macro avg       0.88      0.85      0.86      6554\n",
      "weighted avg       0.89      0.89      0.89      6554\n",
      "\n",
      "############################################################\n",
      "Classification report for category: floods\n",
      "\n",
      "              precision    recall  f1-score   support\n",
      "\n",
      "           0       0.97      0.99      0.98      6008\n",
      "           1       0.85      0.61      0.71       546\n",
      "\n",
      "    accuracy                           0.96      6554\n",
      "   macro avg       0.91      0.80      0.84      6554\n",
      "weighted avg       0.96      0.96      0.96      6554\n",
      "\n",
      "############################################################\n",
      "Classification report for category: storm\n",
      "\n",
      "              precision    recall  f1-score   support\n",
      "\n",
      "           0       0.97      0.97      0.97      5934\n",
      "           1       0.74      0.69      0.71       620\n",
      "\n",
      "    accuracy                           0.95      6554\n",
      "   macro avg       0.85      0.83      0.84      6554\n",
      "weighted avg       0.95      0.95      0.95      6554\n",
      "\n",
      "############################################################\n",
      "Classification report for category: fire\n",
      "\n",
      "              precision    recall  f1-score   support\n",
      "\n",
      "           0       0.99      1.00      1.00      6498\n",
      "           1       0.52      0.29      0.37        56\n",
      "\n",
      "    accuracy                           0.99      6554\n",
      "   macro avg       0.75      0.64      0.68      6554\n",
      "weighted avg       0.99      0.99      0.99      6554\n",
      "\n",
      "############################################################\n",
      "Classification report for category: earthquake\n",
      "\n",
      "              precision    recall  f1-score   support\n",
      "\n",
      "           0       0.98      0.99      0.99      5950\n",
      "           1       0.88      0.82      0.85       604\n",
      "\n",
      "    accuracy                           0.97      6554\n",
      "   macro avg       0.93      0.90      0.92      6554\n",
      "weighted avg       0.97      0.97      0.97      6554\n",
      "\n",
      "############################################################\n",
      "Classification report for category: cold\n",
      "\n",
      "              precision    recall  f1-score   support\n",
      "\n",
      "           0       0.99      1.00      0.99      6425\n",
      "           1       0.61      0.35      0.44       129\n",
      "\n",
      "    accuracy                           0.98      6554\n",
      "   macro avg       0.80      0.67      0.72      6554\n",
      "weighted avg       0.98      0.98      0.98      6554\n",
      "\n",
      "############################################################\n",
      "Classification report for category: other_weather\n",
      "\n",
      "              precision    recall  f1-score   support\n",
      "\n",
      "           0       0.96      0.99      0.97      6220\n",
      "           1       0.47      0.14      0.22       334\n",
      "\n",
      "    accuracy                           0.95      6554\n",
      "   macro avg       0.71      0.57      0.59      6554\n",
      "weighted avg       0.93      0.95      0.93      6554\n",
      "\n",
      "############################################################\n",
      "Classification report for category: direct_report\n",
      "\n",
      "              precision    recall  f1-score   support\n",
      "\n",
      "           0       0.89      0.95      0.92      5301\n",
      "           1       0.72      0.50      0.59      1253\n",
      "\n",
      "    accuracy                           0.87      6554\n",
      "   macro avg       0.81      0.73      0.76      6554\n",
      "weighted avg       0.86      0.87      0.86      6554\n",
      "\n"
     ]
    },
    {
     "name": "stderr",
     "output_type": "stream",
     "text": [
      "C:\\Users\\polys\\anaconda3\\lib\\site-packages\\sklearn\\metrics\\_classification.py:1245: UndefinedMetricWarning: Precision and F-score are ill-defined and being set to 0.0 in labels with no predicted samples. Use `zero_division` parameter to control this behavior.\n",
      "  _warn_prf(average, modifier, msg_start, len(result))\n",
      "C:\\Users\\polys\\anaconda3\\lib\\site-packages\\sklearn\\metrics\\_classification.py:1245: UndefinedMetricWarning: Precision and F-score are ill-defined and being set to 0.0 in labels with no predicted samples. Use `zero_division` parameter to control this behavior.\n",
      "  _warn_prf(average, modifier, msg_start, len(result))\n",
      "C:\\Users\\polys\\anaconda3\\lib\\site-packages\\sklearn\\metrics\\_classification.py:1245: UndefinedMetricWarning: Precision and F-score are ill-defined and being set to 0.0 in labels with no predicted samples. Use `zero_division` parameter to control this behavior.\n",
      "  _warn_prf(average, modifier, msg_start, len(result))\n"
     ]
    }
   ],
   "source": [
    "for i in range(y_pred.shape[1]):\n",
    "    \n",
    "    y_true_col=y_test.iloc[:,i]\n",
    "    y_pred_col=y_pred[:,i]\n",
    "    \n",
    "    category=y_true_col.name\n",
    "    print(\"#\"*60)\n",
    "    print(f\"Classification report for category: {category}\\n\")\n",
    "    print(classification_report(y_true_col, y_pred_col))"
   ]
  },
  {
   "cell_type": "markdown",
   "metadata": {},
   "source": [
    "### 6. Improve your model\n",
    "Use grid search to find better parameters. "
   ]
  },
  {
   "cell_type": "code",
   "execution_count": 18,
   "metadata": {},
   "outputs": [
    {
     "data": {
      "text/plain": [
       "{'estimator__boosting_type': 'gbdt',\n",
       " 'estimator__class_weight': None,\n",
       " 'estimator__colsample_bytree': 1.0,\n",
       " 'estimator__importance_type': 'split',\n",
       " 'estimator__learning_rate': 0.1,\n",
       " 'estimator__max_depth': -1,\n",
       " 'estimator__min_child_samples': 20,\n",
       " 'estimator__min_child_weight': 0.001,\n",
       " 'estimator__min_split_gain': 0.0,\n",
       " 'estimator__n_estimators': 100,\n",
       " 'estimator__n_jobs': -1,\n",
       " 'estimator__num_leaves': 31,\n",
       " 'estimator__objective': None,\n",
       " 'estimator__random_state': None,\n",
       " 'estimator__reg_alpha': 0.0,\n",
       " 'estimator__reg_lambda': 0.0,\n",
       " 'estimator__silent': 'warn',\n",
       " 'estimator__subsample': 1.0,\n",
       " 'estimator__subsample_for_bin': 200000,\n",
       " 'estimator__subsample_freq': 0,\n",
       " 'estimator': LGBMClassifier(),\n",
       " 'n_jobs': None}"
      ]
     },
     "execution_count": 18,
     "metadata": {},
     "output_type": "execute_result"
    }
   ],
   "source": [
    "pipeline['clf'].get_params()"
   ]
  },
  {
   "cell_type": "code",
   "execution_count": 19,
   "metadata": {},
   "outputs": [],
   "source": [
    "parameters = {\n",
    "        #'vect__ngram_range': ((1, 1), (1, 2)),\n",
    "        #'vect__max_df': (0.5, 0.75, 1.0),\n",
    "        #'vect__max_features': (None, 5000, 10000),\n",
    "        'tfidf__use_idf': (True, False),\n",
    "        #'estimator__n_estimators': [50, 100, 200],\n",
    "        #'clf__estimator__min_samples_split': [2, 3, 4],\n",
    "        'clf__estimator__max_depth':[10,None]\n",
    "      \n",
    "    }\n",
    "\n",
    "cv = GridSearchCV(pipeline,param_grid=parameters,cv=3,verbose=10)"
   ]
  },
  {
   "cell_type": "code",
   "execution_count": 20,
   "metadata": {
    "scrolled": true,
    "tags": []
   },
   "outputs": [
    {
     "name": "stdout",
     "output_type": "stream",
     "text": [
      "Fitting 3 folds for each of 4 candidates, totalling 12 fits\n",
      "[CV 1/3; 1/4] START clf__estimator__max_depth=10, tfidf__use_idf=True...........\n",
      "[CV 1/3; 1/4] END clf__estimator__max_depth=10, tfidf__use_idf=True; total time= 2.0min\n",
      "[CV 2/3; 1/4] START clf__estimator__max_depth=10, tfidf__use_idf=True...........\n",
      "[CV 2/3; 1/4] END clf__estimator__max_depth=10, tfidf__use_idf=True; total time= 2.0min\n",
      "[CV 3/3; 1/4] START clf__estimator__max_depth=10, tfidf__use_idf=True...........\n",
      "[CV 3/3; 1/4] END clf__estimator__max_depth=10, tfidf__use_idf=True; total time= 2.0min\n",
      "[CV 1/3; 2/4] START clf__estimator__max_depth=10, tfidf__use_idf=False..........\n",
      "[CV 1/3; 2/4] END clf__estimator__max_depth=10, tfidf__use_idf=False; total time= 2.0min\n",
      "[CV 2/3; 2/4] START clf__estimator__max_depth=10, tfidf__use_idf=False..........\n",
      "[CV 2/3; 2/4] END clf__estimator__max_depth=10, tfidf__use_idf=False; total time= 2.0min\n",
      "[CV 3/3; 2/4] START clf__estimator__max_depth=10, tfidf__use_idf=False..........\n",
      "[CV 3/3; 2/4] END clf__estimator__max_depth=10, tfidf__use_idf=False; total time= 2.0min\n",
      "[CV 1/3; 3/4] START clf__estimator__max_depth=None, tfidf__use_idf=True.........\n",
      "[CV 1/3; 3/4] END clf__estimator__max_depth=None, tfidf__use_idf=True; total time= 2.1min\n",
      "[CV 2/3; 3/4] START clf__estimator__max_depth=None, tfidf__use_idf=True.........\n",
      "[CV 2/3; 3/4] END clf__estimator__max_depth=None, tfidf__use_idf=True; total time= 2.1min\n",
      "[CV 3/3; 3/4] START clf__estimator__max_depth=None, tfidf__use_idf=True.........\n",
      "[CV 3/3; 3/4] END clf__estimator__max_depth=None, tfidf__use_idf=True; total time= 2.2min\n",
      "[CV 1/3; 4/4] START clf__estimator__max_depth=None, tfidf__use_idf=False........\n",
      "[CV 1/3; 4/4] END clf__estimator__max_depth=None, tfidf__use_idf=False; total time= 2.2min\n",
      "[CV 2/3; 4/4] START clf__estimator__max_depth=None, tfidf__use_idf=False........\n",
      "[CV 2/3; 4/4] END clf__estimator__max_depth=None, tfidf__use_idf=False; total time= 2.2min\n",
      "[CV 3/3; 4/4] START clf__estimator__max_depth=None, tfidf__use_idf=False........\n",
      "[CV 3/3; 4/4] END clf__estimator__max_depth=None, tfidf__use_idf=False; total time= 2.2min\n"
     ]
    },
    {
     "data": {
      "text/plain": [
       "GridSearchCV(cv=3,\n",
       "             estimator=Pipeline(steps=[('vect',\n",
       "                                        CountVectorizer(tokenizer=<function tokenize at 0x0000023F76162700>)),\n",
       "                                       ('tfidf', TfidfTransformer()),\n",
       "                                       ('clf',\n",
       "                                        MultiOutputClassifier(estimator=LGBMClassifier()))]),\n",
       "             param_grid={'clf__estimator__max_depth': [10, None],\n",
       "                         'tfidf__use_idf': (True, False)},\n",
       "             verbose=10)"
      ]
     },
     "execution_count": 20,
     "metadata": {},
     "output_type": "execute_result"
    }
   ],
   "source": [
    "cv.fit(X_train['message'],y_train)"
   ]
  },
  {
   "cell_type": "markdown",
   "metadata": {},
   "source": [
    "### 7. Test your model\n",
    "Show the accuracy, precision, and recall of the tuned model.  \n",
    "\n",
    "Since this project focuses on code quality, process, and  pipelines, there is no minimum performance metric needed to pass. However, make sure to fine tune your models for accuracy, precision and recall to make your project stand out - especially for your portfolio!"
   ]
  },
  {
   "cell_type": "code",
   "execution_count": 21,
   "metadata": {},
   "outputs": [],
   "source": [
    "y_pred = cv.predict(X_test['message'])"
   ]
  },
  {
   "cell_type": "code",
   "execution_count": 22,
   "metadata": {},
   "outputs": [
    {
     "data": {
      "text/plain": [
       "array([[0, 0, 0, ..., 0, 0, 0],\n",
       "       [1, 0, 0, ..., 0, 0, 0],\n",
       "       [1, 0, 0, ..., 0, 0, 0],\n",
       "       ...,\n",
       "       [1, 0, 0, ..., 0, 0, 1],\n",
       "       [1, 1, 0, ..., 0, 0, 1],\n",
       "       [1, 0, 0, ..., 0, 0, 0]], dtype=int64)"
      ]
     },
     "execution_count": 22,
     "metadata": {},
     "output_type": "execute_result"
    }
   ],
   "source": [
    "y_pred"
   ]
  },
  {
   "cell_type": "code",
   "execution_count": 36,
   "metadata": {
    "scrolled": true,
    "tags": []
   },
   "outputs": [
    {
     "name": "stdout",
     "output_type": "stream",
     "text": [
      "Confusio nMatrix:\n",
      "############################################################\n",
      "Classification report for category: related\n",
      "              precision    recall  f1-score   support\n",
      "\n",
      "           0       0.71      0.47      0.56      1490\n",
      "           1       0.86      0.94      0.90      5064\n",
      "\n",
      "    accuracy                           0.84      6554\n",
      "   macro avg       0.78      0.70      0.73      6554\n",
      "weighted avg       0.82      0.84      0.82      6554\n",
      "\n",
      "Confusion Matrix for category: related\n",
      "\n"
     ]
    },
    {
     "data": {
      "image/png": "[encoded data removed]",
      "text/plain": [
       "<Figure size 432x288 with 2 Axes>"
      ]
     },
     "metadata": {
      "needs_background": "light"
     },
     "output_type": "display_data"
    },
    {
     "name": "stdout",
     "output_type": "stream",
     "text": [
      "############################################################\n",
      "Classification report for category: request\n",
      "              precision    recall  f1-score   support\n",
      "\n",
      "           0       0.92      0.97      0.95      5443\n",
      "           1       0.81      0.59      0.68      1111\n",
      "\n",
      "    accuracy                           0.91      6554\n",
      "   macro avg       0.87      0.78      0.81      6554\n",
      "weighted avg       0.90      0.91      0.90      6554\n",
      "\n",
      "Confusion Matrix for category: request\n",
      "\n"
     ]
    },
    {
     "data": {
      "image/png": "[encoded data removed]",
      "text/plain": [
       "<Figure size 432x288 with 2 Axes>"
      ]
     },
     "metadata": {
      "needs_background": "light"
     },
     "output_type": "display_data"
    },
    {
     "name": "stdout",
     "output_type": "stream",
     "text": [
      "############################################################\n",
      "Classification report for category: offer\n",
      "              precision    recall  f1-score   support\n",
      "\n",
      "           0       1.00      1.00      1.00      6522\n",
      "           1       0.00      0.00      0.00        32\n",
      "\n",
      "    accuracy                           0.99      6554\n",
      "   macro avg       0.50      0.50      0.50      6554\n",
      "weighted avg       0.99      0.99      0.99      6554\n",
      "\n",
      "Confusion Matrix for category: offer\n",
      "\n"
     ]
    },
    {
     "data": {
      "image/png": "[encoded data removed]",
      "text/plain": [
       "<Figure size 432x288 with 2 Axes>"
      ]
     },
     "metadata": {
      "needs_background": "light"
     },
     "output_type": "display_data"
    },
    {
     "name": "stdout",
     "output_type": "stream",
     "text": [
      "############################################################\n",
      "Classification report for category: aid_related\n",
      "              precision    recall  f1-score   support\n",
      "\n",
      "           0       0.80      0.84      0.82      3791\n",
      "           1       0.76      0.71      0.74      2763\n",
      "\n",
      "    accuracy                           0.79      6554\n",
      "   macro avg       0.78      0.78      0.78      6554\n",
      "weighted avg       0.78      0.79      0.78      6554\n",
      "\n",
      "Confusion Matrix for category: aid_related\n",
      "\n"
     ]
    },
    {
     "data": {
      "image/png": "[encoded data removed]",
      "text/plain": [
       "<Figure size 432x288 with 2 Axes>"
      ]
     },
     "metadata": {
      "needs_background": "light"
     },
     "output_type": "display_data"
    },
    {
     "name": "stdout",
     "output_type": "stream",
     "text": [
      "############################################################\n",
      "Classification report for category: medical_help\n",
      "              precision    recall  f1-score   support\n",
      "\n",
      "           0       0.94      0.98      0.96      6026\n",
      "           1       0.55      0.29      0.38       528\n",
      "\n",
      "    accuracy                           0.92      6554\n",
      "   macro avg       0.74      0.64      0.67      6554\n",
      "weighted avg       0.91      0.92      0.91      6554\n",
      "\n",
      "Confusion Matrix for category: medical_help\n",
      "\n"
     ]
    },
    {
     "data": {
      "image/png": "[encoded data removed]",
      "text/plain": [
       "<Figure size 432x288 with 2 Axes>"
      ]
     },
     "metadata": {
      "needs_background": "light"
     },
     "output_type": "display_data"
    },
    {
     "name": "stdout",
     "output_type": "stream",
     "text": [
      "############################################################\n",
      "Classification report for category: medical_products\n",
      "              precision    recall  f1-score   support\n",
      "\n",
      "           0       0.96      0.99      0.98      6200\n",
      "           1       0.70      0.34      0.46       354\n",
      "\n",
      "    accuracy                           0.96      6554\n",
      "   macro avg       0.83      0.66      0.72      6554\n",
      "weighted avg       0.95      0.96      0.95      6554\n",
      "\n",
      "Confusion Matrix for category: medical_products\n",
      "\n"
     ]
    },
    {
     "data": {
      "image/png": "[encoded data removed]",
      "text/plain": [
       "<Figure size 432x288 with 2 Axes>"
      ]
     },
     "metadata": {
      "needs_background": "light"
     },
     "output_type": "display_data"
    },
    {
     "name": "stdout",
     "output_type": "stream",
     "text": [
      "############################################################\n",
      "Classification report for category: search_and_rescue\n",
      "              precision    recall  f1-score   support\n",
      "\n",
      "           0       0.98      1.00      0.99      6376\n",
      "           1       0.69      0.20      0.31       178\n",
      "\n",
      "    accuracy                           0.98      6554\n",
      "   macro avg       0.83      0.60      0.65      6554\n",
      "weighted avg       0.97      0.98      0.97      6554\n",
      "\n",
      "Confusion Matrix for category: search_and_rescue\n",
      "\n"
     ]
    },
    {
     "data": {
      "image/png": "[encoded data removed]",
      "text/plain": [
       "<Figure size 432x288 with 2 Axes>"
      ]
     },
     "metadata": {
      "needs_background": "light"
     },
     "output_type": "display_data"
    },
    {
     "name": "stdout",
     "output_type": "stream",
     "text": [
      "############################################################\n",
      "Classification report for category: security\n",
      "              precision    recall  f1-score   support\n",
      "\n",
      "           0       0.98      1.00      0.99      6432\n",
      "           1       0.17      0.01      0.02       122\n",
      "\n",
      "    accuracy                           0.98      6554\n",
      "   macro avg       0.57      0.50      0.50      6554\n",
      "weighted avg       0.97      0.98      0.97      6554\n",
      "\n",
      "Confusion Matrix for category: security\n",
      "\n"
     ]
    },
    {
     "data": {
      "image/png": "[encoded data removed]",
      "text/plain": [
       "<Figure size 432x288 with 2 Axes>"
      ]
     },
     "metadata": {
      "needs_background": "light"
     },
     "output_type": "display_data"
    },
    {
     "name": "stdout",
     "output_type": "stream",
     "text": [
      "############################################################\n",
      "Classification report for category: military\n",
      "              precision    recall  f1-score   support\n",
      "\n",
      "           0       0.98      0.99      0.98      6332\n",
      "           1       0.57      0.36      0.45       222\n",
      "\n",
      "    accuracy                           0.97      6554\n",
      "   macro avg       0.78      0.68      0.72      6554\n",
      "weighted avg       0.96      0.97      0.97      6554\n",
      "\n",
      "Confusion Matrix for category: military\n",
      "\n"
     ]
    },
    {
     "data": {
      "image/png": "[encoded data removed]",
      "text/plain": [
       "<Figure size 432x288 with 2 Axes>"
      ]
     },
     "metadata": {
      "needs_background": "light"
     },
     "output_type": "display_data"
    },
    {
     "name": "stdout",
     "output_type": "stream",
     "text": [
      "############################################################\n",
      "Classification report for category: child_alone\n",
      "              precision    recall  f1-score   support\n",
      "\n",
      "           0       1.00      1.00      1.00      6554\n",
      "\n",
      "    accuracy                           1.00      6554\n",
      "   macro avg       1.00      1.00      1.00      6554\n",
      "weighted avg       1.00      1.00      1.00      6554\n",
      "\n",
      "Confusion Matrix for category: child_alone\n",
      "\n"
     ]
    },
    {
     "data": {
      "image/png": "[encoded data removed]",
      "text/plain": [
       "<Figure size 432x288 with 2 Axes>"
      ]
     },
     "metadata": {
      "needs_background": "light"
     },
     "output_type": "display_data"
    },
    {
     "name": "stdout",
     "output_type": "stream",
     "text": [
      "############################################################\n",
      "Classification report for category: water\n",
      "              precision    recall  f1-score   support\n",
      "\n",
      "           0       0.97      0.99      0.98      6085\n",
      "           1       0.80      0.65      0.72       469\n",
      "\n",
      "    accuracy                           0.96      6554\n",
      "   macro avg       0.89      0.82      0.85      6554\n",
      "weighted avg       0.96      0.96      0.96      6554\n",
      "\n",
      "Confusion Matrix for category: water\n",
      "\n"
     ]
    },
    {
     "data": {
      "image/png": "[encoded data removed]",
      "text/plain": [
       "<Figure size 432x288 with 2 Axes>"
      ]
     },
     "metadata": {
      "needs_background": "light"
     },
     "output_type": "display_data"
    },
    {
     "name": "stdout",
     "output_type": "stream",
     "text": [
      "############################################################\n",
      "Classification report for category: food\n",
      "              precision    recall  f1-score   support\n",
      "\n",
      "           0       0.97      0.97      0.97      5823\n",
      "           1       0.79      0.79      0.79       731\n",
      "\n",
      "    accuracy                           0.95      6554\n",
      "   macro avg       0.88      0.88      0.88      6554\n",
      "weighted avg       0.95      0.95      0.95      6554\n",
      "\n",
      "Confusion Matrix for category: food\n",
      "\n"
     ]
    },
    {
     "data": {
      "image/png": "[encoded data removed]",
      "text/plain": [
       "<Figure size 432x288 with 2 Axes>"
      ]
     },
     "metadata": {
      "needs_background": "light"
     },
     "output_type": "display_data"
    },
    {
     "name": "stdout",
     "output_type": "stream",
     "text": [
      "############################################################\n",
      "Classification report for category: shelter\n",
      "              precision    recall  f1-score   support\n",
      "\n",
      "           0       0.96      0.98      0.97      5962\n",
      "           1       0.75      0.61      0.68       592\n",
      "\n",
      "    accuracy                           0.95      6554\n",
      "   macro avg       0.86      0.80      0.82      6554\n",
      "weighted avg       0.94      0.95      0.94      6554\n",
      "\n",
      "Confusion Matrix for category: shelter\n",
      "\n"
     ]
    },
    {
     "data": {
      "image/png": "[encoded data removed]",
      "text/plain": [
       "<Figure size 432x288 with 2 Axes>"
      ]
     },
     "metadata": {
      "needs_background": "light"
     },
     "output_type": "display_data"
    },
    {
     "name": "stdout",
     "output_type": "stream",
     "text": [
      "############################################################\n",
      "Classification report for category: clothing\n",
      "              precision    recall  f1-score   support\n",
      "\n",
      "           0       0.99      1.00      0.99      6448\n",
      "           1       0.78      0.42      0.55       106\n",
      "\n",
      "    accuracy                           0.99      6554\n",
      "   macro avg       0.88      0.71      0.77      6554\n",
      "weighted avg       0.99      0.99      0.99      6554\n",
      "\n",
      "Confusion Matrix for category: clothing\n",
      "\n"
     ]
    },
    {
     "data": {
      "image/png": "[encoded data removed]",
      "text/plain": [
       "<Figure size 432x288 with 2 Axes>"
      ]
     },
     "metadata": {
      "needs_background": "light"
     },
     "output_type": "display_data"
    },
    {
     "name": "stdout",
     "output_type": "stream",
     "text": [
      "############################################################\n",
      "Classification report for category: money\n",
      "              precision    recall  f1-score   support\n",
      "\n",
      "           0       0.98      1.00      0.99      6408\n",
      "           1       0.60      0.24      0.34       146\n",
      "\n",
      "    accuracy                           0.98      6554\n",
      "   macro avg       0.79      0.62      0.67      6554\n",
      "weighted avg       0.97      0.98      0.98      6554\n",
      "\n",
      "Confusion Matrix for category: money\n",
      "\n"
     ]
    },
    {
     "data": {
      "image/png": "[encoded data removed]",
      "text/plain": [
       "<Figure size 432x288 with 2 Axes>"
      ]
     },
     "metadata": {
      "needs_background": "light"
     },
     "output_type": "display_data"
    },
    {
     "name": "stdout",
     "output_type": "stream",
     "text": [
      "############################################################\n",
      "Classification report for category: missing_people\n",
      "              precision    recall  f1-score   support\n",
      "\n",
      "           0       0.99      1.00      1.00      6482\n",
      "           1       0.64      0.29      0.40        72\n",
      "\n",
      "    accuracy                           0.99      6554\n",
      "   macro avg       0.81      0.64      0.70      6554\n",
      "weighted avg       0.99      0.99      0.99      6554\n",
      "\n",
      "Confusion Matrix for category: missing_people\n",
      "\n"
     ]
    },
    {
     "data": {
      "image/png": "[encoded data removed]",
      "text/plain": [
       "<Figure size 432x288 with 2 Axes>"
      ]
     },
     "metadata": {
      "needs_background": "light"
     },
     "output_type": "display_data"
    },
    {
     "name": "stdout",
     "output_type": "stream",
     "text": [
      "############################################################\n",
      "Classification report for category: refugees\n",
      "              precision    recall  f1-score   support\n",
      "\n",
      "           0       0.97      1.00      0.98      6319\n",
      "           1       0.64      0.23      0.34       235\n",
      "\n",
      "    accuracy                           0.97      6554\n",
      "   macro avg       0.81      0.61      0.66      6554\n",
      "weighted avg       0.96      0.97      0.96      6554\n",
      "\n",
      "Confusion Matrix for category: refugees\n",
      "\n"
     ]
    },
    {
     "data": {
      "image/png": "[encoded data removed]",
      "text/plain": [
       "<Figure size 432x288 with 2 Axes>"
      ]
     },
     "metadata": {
      "needs_background": "light"
     },
     "output_type": "display_data"
    },
    {
     "name": "stdout",
     "output_type": "stream",
     "text": [
      "############################################################\n",
      "Classification report for category: death\n",
      "              precision    recall  f1-score   support\n",
      "\n",
      "           0       0.98      0.99      0.98      6259\n",
      "           1       0.72      0.55      0.63       295\n",
      "\n",
      "    accuracy                           0.97      6554\n",
      "   macro avg       0.85      0.77      0.81      6554\n",
      "weighted avg       0.97      0.97      0.97      6554\n",
      "\n",
      "Confusion Matrix for category: death\n",
      "\n"
     ]
    },
    {
     "data": {
      "image/png": "[encoded data removed]",
      "text/plain": [
       "<Figure size 432x288 with 2 Axes>"
      ]
     },
     "metadata": {
      "needs_background": "light"
     },
     "output_type": "display_data"
    },
    {
     "name": "stdout",
     "output_type": "stream",
     "text": [
      "############################################################\n",
      "Classification report for category: other_aid\n",
      "              precision    recall  f1-score   support\n",
      "\n",
      "           0       0.88      0.98      0.93      5671\n",
      "           1       0.61      0.16      0.26       883\n",
      "\n",
      "    accuracy                           0.87      6554\n",
      "   macro avg       0.75      0.57      0.59      6554\n",
      "weighted avg       0.85      0.87      0.84      6554\n",
      "\n",
      "Confusion Matrix for category: other_aid\n",
      "\n"
     ]
    },
    {
     "data": {
      "image/png": "[encoded data removed]",
      "text/plain": [
       "<Figure size 432x288 with 2 Axes>"
      ]
     },
     "metadata": {
      "needs_background": "light"
     },
     "output_type": "display_data"
    },
    {
     "name": "stdout",
     "output_type": "stream",
     "text": [
      "############################################################\n",
      "Classification report for category: infrastructure_related\n",
      "              precision    recall  f1-score   support\n",
      "\n",
      "           0       0.94      1.00      0.97      6123\n",
      "           1       0.53      0.06      0.10       431\n",
      "\n",
      "    accuracy                           0.93      6554\n",
      "   macro avg       0.74      0.53      0.53      6554\n",
      "weighted avg       0.91      0.93      0.91      6554\n",
      "\n",
      "Confusion Matrix for category: infrastructure_related\n",
      "\n"
     ]
    },
    {
     "data": {
      "image/png": "[encoded data removed]",
      "text/plain": [
       "<Figure size 432x288 with 2 Axes>"
      ]
     },
     "metadata": {
      "needs_background": "light"
     },
     "output_type": "display_data"
    },
    {
     "name": "stdout",
     "output_type": "stream",
     "text": [
      "############################################################\n",
      "Classification report for category: transport\n",
      "              precision    recall  f1-score   support\n",
      "\n",
      "           0       0.96      1.00      0.98      6252\n",
      "           1       0.74      0.24      0.36       302\n",
      "\n",
      "    accuracy                           0.96      6554\n",
      "   macro avg       0.85      0.62      0.67      6554\n",
      "weighted avg       0.95      0.96      0.95      6554\n",
      "\n",
      "Confusion Matrix for category: transport\n",
      "\n"
     ]
    },
    {
     "data": {
      "image/png": "[encoded data removed]",
      "text/plain": [
       "<Figure size 432x288 with 2 Axes>"
      ]
     },
     "metadata": {
      "needs_background": "light"
     },
     "output_type": "display_data"
    },
    {
     "name": "stdout",
     "output_type": "stream",
     "text": [
      "############################################################\n",
      "Classification report for category: buildings\n",
      "              precision    recall  f1-score   support\n",
      "\n",
      "           0       0.97      0.99      0.98      6238\n",
      "           1       0.76      0.40      0.53       316\n",
      "\n",
      "    accuracy                           0.97      6554\n",
      "   macro avg       0.87      0.70      0.75      6554\n",
      "weighted avg       0.96      0.97      0.96      6554\n",
      "\n",
      "Confusion Matrix for category: buildings\n",
      "\n"
     ]
    },
    {
     "data": {
      "image/png": "[encoded data removed]",
      "text/plain": [
       "<Figure size 432x288 with 2 Axes>"
      ]
     },
     "metadata": {
      "needs_background": "light"
     },
     "output_type": "display_data"
    },
    {
     "name": "stdout",
     "output_type": "stream",
     "text": [
      "############################################################\n",
      "Classification report for category: electricity\n",
      "              precision    recall  f1-score   support\n",
      "\n",
      "           0       0.99      0.99      0.99      6417\n",
      "           1       0.53      0.30      0.38       137\n",
      "\n",
      "    accuracy                           0.98      6554\n",
      "   macro avg       0.76      0.65      0.69      6554\n",
      "weighted avg       0.98      0.98      0.98      6554\n",
      "\n",
      "Confusion Matrix for category: electricity\n",
      "\n"
     ]
    },
    {
     "data": {
      "image/png": "[encoded data removed]",
      "text/plain": [
       "<Figure size 432x288 with 2 Axes>"
      ]
     },
     "metadata": {
      "needs_background": "light"
     },
     "output_type": "display_data"
    },
    {
     "name": "stdout",
     "output_type": "stream",
     "text": [
      "############################################################\n",
      "Classification report for category: tools\n",
      "              precision    recall  f1-score   support\n",
      "\n",
      "           0       0.99      1.00      1.00      6509\n",
      "           1       0.00      0.00      0.00        45\n",
      "\n",
      "    accuracy                           0.99      6554\n",
      "   macro avg       0.50      0.50      0.50      6554\n",
      "weighted avg       0.99      0.99      0.99      6554\n",
      "\n",
      "Confusion Matrix for category: tools\n",
      "\n"
     ]
    },
    {
     "data": {
      "image/png": "[encoded data removed]",
      "text/plain": [
       "<Figure size 432x288 with 2 Axes>"
      ]
     },
     "metadata": {
      "needs_background": "light"
     },
     "output_type": "display_data"
    },
    {
     "name": "stdout",
     "output_type": "stream",
     "text": [
      "############################################################\n",
      "Classification report for category: hospitals\n",
      "              precision    recall  f1-score   support\n",
      "\n",
      "           0       0.99      1.00      0.99      6483\n",
      "           1       0.40      0.08      0.14        71\n",
      "\n",
      "    accuracy                           0.99      6554\n",
      "   macro avg       0.70      0.54      0.57      6554\n",
      "weighted avg       0.98      0.99      0.99      6554\n",
      "\n",
      "Confusion Matrix for category: hospitals\n",
      "\n"
     ]
    },
    {
     "data": {
      "image/png": "[encoded data removed]",
      "text/plain": [
       "<Figure size 432x288 with 2 Axes>"
      ]
     },
     "metadata": {
      "needs_background": "light"
     },
     "output_type": "display_data"
    },
    {
     "name": "stdout",
     "output_type": "stream",
     "text": [
      "############################################################\n",
      "Classification report for category: shops\n",
      "              precision    recall  f1-score   support\n",
      "\n",
      "           0       1.00      1.00      1.00      6523\n",
      "           1       0.00      0.00      0.00        31\n",
      "\n",
      "    accuracy                           0.99      6554\n",
      "   macro avg       0.50      0.50      0.50      6554\n",
      "weighted avg       0.99      0.99      0.99      6554\n",
      "\n",
      "Confusion Matrix for category: shops\n",
      "\n"
     ]
    },
    {
     "data": {
      "image/png": "[encoded data removed]",
      "text/plain": [
       "<Figure size 432x288 with 2 Axes>"
      ]
     },
     "metadata": {
      "needs_background": "light"
     },
     "output_type": "display_data"
    },
    {
     "name": "stdout",
     "output_type": "stream",
     "text": [
      "############################################################\n",
      "Classification report for category: aid_centers\n",
      "              precision    recall  f1-score   support\n",
      "\n",
      "           0       0.99      1.00      0.99      6464\n",
      "           1       0.60      0.07      0.12        90\n",
      "\n",
      "    accuracy                           0.99      6554\n",
      "   macro avg       0.79      0.53      0.56      6554\n",
      "weighted avg       0.98      0.99      0.98      6554\n",
      "\n",
      "Confusion Matrix for category: aid_centers\n",
      "\n"
     ]
    },
    {
     "data": {
      "image/png": "[encoded data removed]",
      "text/plain": [
       "<Figure size 432x288 with 2 Axes>"
      ]
     },
     "metadata": {
      "needs_background": "light"
     },
     "output_type": "display_data"
    },
    {
     "name": "stdout",
     "output_type": "stream",
     "text": [
      "############################################################\n",
      "Classification report for category: other_infrastructure\n",
      "              precision    recall  f1-score   support\n",
      "\n",
      "           0       0.96      1.00      0.98      6264\n",
      "           1       0.43      0.04      0.08       290\n",
      "\n",
      "    accuracy                           0.96      6554\n",
      "   macro avg       0.69      0.52      0.53      6554\n",
      "weighted avg       0.93      0.96      0.94      6554\n",
      "\n",
      "Confusion Matrix for category: other_infrastructure\n",
      "\n"
     ]
    },
    {
     "data": {
      "image/png": "[encoded data removed]",
      "text/plain": [
       "<Figure size 432x288 with 2 Axes>"
      ]
     },
     "metadata": {
      "needs_background": "light"
     },
     "output_type": "display_data"
    },
    {
     "name": "stdout",
     "output_type": "stream",
     "text": [
      "############################################################\n",
      "Classification report for category: weather_related\n",
      "              precision    recall  f1-score   support\n",
      "\n",
      "           0       0.91      0.94      0.93      4733\n",
      "           1       0.84      0.76      0.80      1821\n",
      "\n",
      "    accuracy                           0.89      6554\n",
      "   macro avg       0.88      0.85      0.86      6554\n",
      "weighted avg       0.89      0.89      0.89      6554\n",
      "\n",
      "Confusion Matrix for category: weather_related\n",
      "\n"
     ]
    },
    {
     "data": {
      "image/png": "[encoded data removed]",
      "text/plain": [
       "<Figure size 432x288 with 2 Axes>"
      ]
     },
     "metadata": {
      "needs_background": "light"
     },
     "output_type": "display_data"
    },
    {
     "name": "stdout",
     "output_type": "stream",
     "text": [
      "############################################################\n",
      "Classification report for category: floods\n",
      "              precision    recall  f1-score   support\n",
      "\n",
      "           0       0.97      0.99      0.98      6008\n",
      "           1       0.85      0.61      0.71       546\n",
      "\n",
      "    accuracy                           0.96      6554\n",
      "   macro avg       0.91      0.80      0.84      6554\n",
      "weighted avg       0.96      0.96      0.96      6554\n",
      "\n",
      "Confusion Matrix for category: floods\n",
      "\n"
     ]
    },
    {
     "data": {
      "image/png": "[encoded data removed]",
      "text/plain": [
       "<Figure size 432x288 with 2 Axes>"
      ]
     },
     "metadata": {
      "needs_background": "light"
     },
     "output_type": "display_data"
    },
    {
     "name": "stdout",
     "output_type": "stream",
     "text": [
      "############################################################\n",
      "Classification report for category: storm\n",
      "              precision    recall  f1-score   support\n",
      "\n",
      "           0       0.97      0.97      0.97      5934\n",
      "           1       0.74      0.70      0.72       620\n",
      "\n",
      "    accuracy                           0.95      6554\n",
      "   macro avg       0.86      0.84      0.85      6554\n",
      "weighted avg       0.95      0.95      0.95      6554\n",
      "\n",
      "Confusion Matrix for category: storm\n",
      "\n"
     ]
    },
    {
     "data": {
      "image/png": "[encoded data removed]",
      "text/plain": [
       "<Figure size 432x288 with 2 Axes>"
      ]
     },
     "metadata": {
      "needs_background": "light"
     },
     "output_type": "display_data"
    },
    {
     "name": "stdout",
     "output_type": "stream",
     "text": [
      "############################################################\n",
      "Classification report for category: fire\n",
      "              precision    recall  f1-score   support\n",
      "\n",
      "           0       0.99      1.00      1.00      6498\n",
      "           1       0.55      0.29      0.38        56\n",
      "\n",
      "    accuracy                           0.99      6554\n",
      "   macro avg       0.77      0.64      0.69      6554\n",
      "weighted avg       0.99      0.99      0.99      6554\n",
      "\n",
      "Confusion Matrix for category: fire\n",
      "\n"
     ]
    },
    {
     "data": {
      "image/png": "[encoded data removed]",
      "text/plain": [
       "<Figure size 432x288 with 2 Axes>"
      ]
     },
     "metadata": {
      "needs_background": "light"
     },
     "output_type": "display_data"
    },
    {
     "name": "stdout",
     "output_type": "stream",
     "text": [
      "############################################################\n",
      "Classification report for category: earthquake\n",
      "              precision    recall  f1-score   support\n",
      "\n",
      "           0       0.98      0.99      0.99      5950\n",
      "           1       0.88      0.83      0.85       604\n",
      "\n",
      "    accuracy                           0.97      6554\n",
      "   macro avg       0.93      0.91      0.92      6554\n",
      "weighted avg       0.97      0.97      0.97      6554\n",
      "\n",
      "Confusion Matrix for category: earthquake\n",
      "\n"
     ]
    },
    {
     "data": {
      "image/png": "[encoded data removed]",
      "text/plain": [
       "<Figure size 432x288 with 2 Axes>"
      ]
     },
     "metadata": {
      "needs_background": "light"
     },
     "output_type": "display_data"
    },
    {
     "name": "stdout",
     "output_type": "stream",
     "text": [
      "############################################################\n",
      "Classification report for category: cold\n",
      "              precision    recall  f1-score   support\n",
      "\n",
      "           0       0.99      1.00      0.99      6425\n",
      "           1       0.64      0.34      0.44       129\n",
      "\n",
      "    accuracy                           0.98      6554\n",
      "   macro avg       0.81      0.67      0.72      6554\n",
      "weighted avg       0.98      0.98      0.98      6554\n",
      "\n",
      "Confusion Matrix for category: cold\n",
      "\n"
     ]
    },
    {
     "data": {
      "image/png": "[encoded data removed]",
      "text/plain": [
       "<Figure size 432x288 with 2 Axes>"
      ]
     },
     "metadata": {
      "needs_background": "light"
     },
     "output_type": "display_data"
    },
    {
     "name": "stdout",
     "output_type": "stream",
     "text": [
      "############################################################\n",
      "Classification report for category: other_weather\n",
      "              precision    recall  f1-score   support\n",
      "\n",
      "           0       0.96      0.99      0.97      6220\n",
      "           1       0.52      0.13      0.21       334\n",
      "\n",
      "    accuracy                           0.95      6554\n",
      "   macro avg       0.74      0.56      0.59      6554\n",
      "weighted avg       0.93      0.95      0.94      6554\n",
      "\n",
      "Confusion Matrix for category: other_weather\n",
      "\n"
     ]
    },
    {
     "data": {
      "image/png": "[encoded data removed]",
      "text/plain": [
       "<Figure size 432x288 with 2 Axes>"
      ]
     },
     "metadata": {
      "needs_background": "light"
     },
     "output_type": "display_data"
    },
    {
     "name": "stdout",
     "output_type": "stream",
     "text": [
      "############################################################\n",
      "Classification report for category: direct_report\n",
      "              precision    recall  f1-score   support\n",
      "\n",
      "           0       0.89      0.96      0.92      5301\n",
      "           1       0.74      0.49      0.59      1253\n",
      "\n",
      "    accuracy                           0.87      6554\n",
      "   macro avg       0.81      0.72      0.75      6554\n",
      "weighted avg       0.86      0.87      0.86      6554\n",
      "\n",
      "Confusion Matrix for category: direct_report\n",
      "\n"
     ]
    },
    {
     "data": {
      "image/png": "[encoded data removed]",
      "text/plain": [
       "<Figure size 432x288 with 2 Axes>"
      ]
     },
     "metadata": {
      "needs_background": "light"
     },
     "output_type": "display_data"
    },
    {
     "name": "stdout",
     "output_type": "stream",
     "text": [
      "Accuracy: related                   0.835215\n",
      "request                   0.906927\n",
      "offer                     0.994660\n",
      "aid_related               0.785017\n",
      "medical_help              0.923406\n",
      "medical_products          0.956515\n",
      "search_and_rescue         0.975740\n",
      "security                  0.980775\n",
      "military                  0.969332\n",
      "child_alone               1.000000\n",
      "water                     0.963534\n",
      "food                      0.953006\n",
      "shelter                   0.947055\n",
      "clothing                  0.988709\n",
      "money                     0.979554\n",
      "missing_people            0.990388\n",
      "refugees                  0.967806\n",
      "death                     0.970247\n",
      "other_aid                 0.873055\n",
      "infrastructure_related    0.934696\n",
      "transport                 0.960940\n",
      "buildings                 0.965060\n",
      "electricity               0.979860\n",
      "tools                     0.992829\n",
      "hospitals                 0.988709\n",
      "shops                     0.994812\n",
      "aid_centers               0.986573\n",
      "other_infrastructure      0.955142\n",
      "weather_related           0.893348\n",
      "floods                    0.958346\n",
      "storm                     0.948428\n",
      "fire                      0.991913\n",
      "earthquake                0.974062\n",
      "cold                      0.983216\n",
      "other_weather             0.949496\n",
      "direct_report             0.868477\n",
      "dtype: float64\n",
      "\n",
      "Best Parameters: {'clf__estimator__max_depth': None, 'tfidf__use_idf': False}\n"
     ]
    }
   ],
   "source": [
    "confusion_mat = multilabel_confusion_matrix(y_test, y_pred)\n",
    "accuracy = (y_pred == y_test).mean()\n",
    "\n",
    "#print(\"Labels:\", labels)\n",
    "print(\"Confusio nMatrix:\")\n",
    "for i,mat in enumerate(confusion_mat):\n",
    "    print(\"#\"*60)\n",
    "    print(f\"Classification report for category: { categories[i]}\")\n",
    "    print(classification_report(y_test.iloc[:,i], y_pred[:,i]))\n",
    "    print(f\"Confusion Matrix for category: {categories[i]}\\n\")\n",
    "    sns.heatmap(mat,annot=True,fmt='g')\n",
    "    plt.show()\n",
    "\n",
    "print(\"Accuracy:\", accuracy)\n",
    "print(\"\\nBest Parameters:\", cv.best_params_)"
   ]
  },
  {
   "cell_type": "markdown",
   "metadata": {},
   "source": [
    "### 8. Try improving your model further. Here are a few ideas:\n",
    "* try other machine learning algorithms\n",
    "* add other features besides the TF-IDF"
   ]
  },
  {
   "cell_type": "code",
   "execution_count": null,
   "metadata": {},
   "outputs": [],
   "source": []
  },
  {
   "cell_type": "markdown",
   "metadata": {},
   "source": [
    "### 9. Export your model as a pickle file"
   ]
  },
  {
   "cell_type": "code",
   "execution_count": 37,
   "metadata": {},
   "outputs": [],
   "source": [
    "filename = 'disaster_model.sav'\n",
    "pickle.dump(cv, open(filename, 'wb'))"
   ]
  },
  {
   "cell_type": "markdown",
   "metadata": {},
   "source": [
    "### 10. Use this notebook to complete `train.py`\n",
    "Use the template file attached in the Resources folder to write a script that runs the steps above to create a database and export a model based on a new dataset specified by the user."
   ]
  },
  {
   "cell_type": "code",
   "execution_count": null,
   "metadata": {},
   "outputs": [],
   "source": []
  }
 ],
 "metadata": {
  "kernelspec": {
   "display_name": "Python 3",
   "language": "python",
   "name": "python3"
  },
  "language_info": {
   "codemirror_mode": {
    "name": "ipython",
    "version": 3
   },
   "file_extension": ".py",
   "mimetype": "text/x-python",
   "name": "python",
   "nbconvert_exporter": "python",
   "pygments_lexer": "ipython3",
   "version": "3.8.8"
  }
 },
 "nbformat": 4,
 "nbformat_minor": 4
}
